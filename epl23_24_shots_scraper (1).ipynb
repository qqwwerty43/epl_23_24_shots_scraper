{
  "nbformat": 4,
  "nbformat_minor": 0,
  "metadata": {
    "colab": {
      "provenance": []
    },
    "kernelspec": {
      "name": "python3",
      "display_name": "Python 3"
    },
    "language_info": {
      "name": "python"
    }
  },
  "cells": [
    {
      "cell_type": "code",
      "source": [
        "import numpy as np\n",
        "import pandas as pd\n",
        "import requests\n",
        "from bs4 import BeautifulSoup"
      ],
      "metadata": {
        "id": "sfJnPBG3xQ7q"
      },
      "execution_count": null,
      "outputs": []
    },
    {
      "cell_type": "code",
      "source": [
        "import numpy as np\n",
        "import pandas as pd\n",
        "import requests\n",
        "from bs4 import BeautifulSoup\n",
        "import time\n",
        "import json\n",
        "import random\n",
        "\n",
        "\n",
        "match_info = []\n",
        "table = []\n",
        "for i in range(21925, 22305):\n",
        "  if 22014<i<22275:\n",
        "    continue\n",
        "  url = f'https://understat.com/match/{i}'\n",
        "  res = requests.get(url)\n",
        "  soup = BeautifulSoup(res.content, \"lxml\")\n",
        "  scripts = soup.find_all('script')\n",
        "\n",
        "  import json\n",
        "\n",
        "  string_with_json_obj = ''\n",
        "\n",
        "  for el in scripts:\n",
        "    if 'shotsData' in el.text:\n",
        "      string_with_json_obj = el.text.strip()\n",
        "\n",
        "  ind_start = string_with_json_obj.index(\"('\")+2\n",
        "  ind_end = string_with_json_obj.index(\"')\")\n",
        "  json_data = string_with_json_obj[ind_start:ind_end]\n",
        "\n",
        "  json_data = json_data.encode('utf8').decode('unicode_escape')\n",
        "\n",
        "  data = json.loads(json_data)\n",
        "\n",
        "\n",
        "  f_h_xG, f_a_xG = 0, 0\n",
        "  for shoot in data['h']:\n",
        "    f_id = i\n",
        "    f_match = f'''{shoot['h_team']} - {shoot['a_team']}. {shoot['date'][:16]}, {shoot['h_goals']}:{shoot['a_goals']}'''\n",
        "    f_team = f'''{shoot['h_team']}'''\n",
        "    f_minute = int(shoot['minute'])\n",
        "    f_xG = float(shoot['xG'])\n",
        "    f_player = f'''{shoot['player']}'''\n",
        "    f_situation = f'''{shoot['situation']}'''\n",
        "    f_result = f'''{shoot['result']}'''\n",
        "    f_shot_type = f'''{shoot['shotType']}'''\n",
        "    f_assistant = f'''{shoot['player_assisted']}'''\n",
        "    f_last_action = f'''{shoot['lastAction']}'''\n",
        "    f_opposite_team = f'''{shoot['a_team']}'''\n",
        "    f_date = f'''{shoot['date']}'''\n",
        "\n",
        "    table.append([f_id, f_match, f_team, f_minute, f_xG, f_player, f_situation, f_result, f_shot_type, f_assistant, f_last_action, f_opposite_team, f_date])\n",
        "\n",
        "    f_h_xG += f_xG\n",
        "\n",
        "  for shoot in data['a']:\n",
        "    f_id = i\n",
        "    f_match = f'''{shoot['h_team']} - {shoot['a_team']}. {shoot['date'][:16]}, {shoot['h_goals']}:{shoot['a_goals']}'''\n",
        "    f_team = f'''{shoot['a_team']}'''\n",
        "    f_minute = int(shoot['minute'])\n",
        "    f_xG = float(shoot['xG'])\n",
        "    f_player = f'''{shoot['player']}'''\n",
        "    f_situation = f'''{shoot['situation']}'''\n",
        "    f_result = f'''{shoot['result']}'''\n",
        "    f_shot_type = f'''{shoot['shotType']}'''\n",
        "    f_assistant = f'''{shoot['player_assisted']}'''\n",
        "    f_last_action = f'''{shoot['lastAction']}'''\n",
        "    f_opposite_team = f'''{shoot['h_team']}'''\n",
        "    f_date = f'''{shoot['date']}'''\n",
        "\n",
        "    table.append([f_id, f_match, f_team, f_minute, f_xG, f_player, f_situation, f_result, f_shot_type, f_assistant, f_last_action, f_opposite_team, f_date])\n",
        "\n",
        "    f_a_xG += f_xG\n",
        "\n",
        "  match_info.append([i, shoot['h_team'], shoot['a_team'], shoot['date'][:16], int(shoot['h_goals']), int(shoot['a_goals']), f_h_xG, f_a_xG, len(data['h']), len(data['a'])])\n",
        "\n",
        "  time.sleep(random.randint(13, 17))\n",
        "\n",
        "print(*match_info, sep='\\n')"
      ],
      "metadata": {
        "id": "luDz6iXPyOKa"
      },
      "execution_count": null,
      "outputs": []
    },
    {
      "cell_type": "code",
      "source": [
        "import pandas as pd\n",
        "\n",
        "header_table = ['id', 'match', 'team', 'minute', 'xG', 'player', 'situation', 'result', 'shot_type', 'assistant', 'last_action', 'opposite_team', 'date']\n",
        "df = pd.DataFrame(table, columns=header_table)\n",
        "df.to_csv('epl23_24shots.csv', sep=';', encoding='utf-16')\n",
        "\n",
        "header_match = ['id', 'team_home', 'team_away', 'date', 'h_goals', 'a_goals', 'h_xG', 'a_xG', 'h_shots', 'a_shots']\n",
        "df = pd.DataFrame(match_info, columns=header_match)\n",
        "df.to_csv('epl23_24matches.csv', sep=';', encoding='utf-16')"
      ],
      "metadata": {
        "id": "BjgqnXgLr3Fk"
      },
      "execution_count": null,
      "outputs": []
    }
  ]
}